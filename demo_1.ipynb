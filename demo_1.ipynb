{
 "cells": [
  {
   "cell_type": "code",
   "execution_count": 1,
   "metadata": {},
   "outputs": [
    {
     "name": "stdout",
     "output_type": "stream",
     "text": [
      "Generators\n"
     ]
    }
   ],
   "source": [
    "print(\"Generators\")"
   ]
  },
  {
   "cell_type": "code",
   "execution_count": 2,
   "metadata": {},
   "outputs": [
    {
     "name": "stdout",
     "output_type": "stream",
     "text": [
      "Added value is  24\n",
      "Sub value is  -14\n",
      "Multiple alue is  95\n",
      "Divide value is  0.2631578947368421\n",
      "Modules value is  5\n"
     ]
    }
   ],
   "source": [
    "w = 5\n",
    "k = 19\n",
    "p = w + k\n",
    "j = w - k\n",
    "a = w * k\n",
    "s = w / k\n",
    "d = w % k\n",
    "print (\"Added value is \", p)\n",
    "print (\"Sub value is \", j)\n",
    "print (\"Multiple alue is \", a )\n",
    "print (\"Divide value is \", s)\n",
    "print (\"Modules value is \", d)\n"
   ]
  },
  {
   "cell_type": "code",
   "execution_count": 3,
   "metadata": {},
   "outputs": [
    {
     "name": "stdout",
     "output_type": "stream",
     "text": [
      "Hello, ABAS\n"
     ]
    }
   ],
   "source": [
    "def yami():\n",
    "    print(\"Hello, ABAS\")\n",
    "\n",
    "# Call the function\n",
    "yami()"
   ]
  },
  {
   "cell_type": "code",
   "execution_count": 4,
   "metadata": {},
   "outputs": [
    {
     "name": "stdout",
     "output_type": "stream",
     "text": [
      "*\n",
      "**\n",
      "*****\n"
     ]
    }
   ],
   "source": [
    "def print_stars():\n",
    "    print(\"*\")       # Call for one star\n",
    "    print(\"**\")     # Call for two stars\n",
    "    print(\"*****\")  # Call for five stars\n",
    "\n",
    "# Call the function\n",
    "print_stars()"
   ]
  }
 ],
 "metadata": {
  "kernelspec": {
   "display_name": ".venv",
   "language": "python",
   "name": "python3"
  },
  "language_info": {
   "codemirror_mode": {
    "name": "ipython",
    "version": 3
   },
   "file_extension": ".py",
   "mimetype": "text/x-python",
   "name": "python",
   "nbconvert_exporter": "python",
   "pygments_lexer": "ipython3",
   "version": "3.12.5"
  },
  "orig_nbformat": 4,
  "vscode": {
   "interpreter": {
    "hash": "49e452f977c27ce7b69233271a2fb15c0ce095e1b97d5518e5b5e97b6d9666eb"
   }
  }
 },
 "nbformat": 4,
 "nbformat_minor": 2
}
