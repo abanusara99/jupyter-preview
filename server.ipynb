{
 "cells": [
  {
   "attachments": {},
   "cell_type": "markdown",
   "metadata": {},
   "source": [
    "# import Socket"
   ]
  },
  {
   "cell_type": "code",
   "execution_count": 4,
   "metadata": {},
   "outputs": [],
   "source": [
    "import socket\n"
   ]
  },
  {
   "attachments": {},
   "cell_type": "markdown",
   "metadata": {},
   "source": [
    "# Define the host and port"
   ]
  },
  {
   "cell_type": "code",
   "execution_count": 5,
   "metadata": {},
   "outputs": [],
   "source": [
    "HOST = '127.0.0.1'  # Localhost\n",
    "PORT = 65432        # Port to listen on"
   ]
  },
  {
   "attachments": {},
   "cell_type": "markdown",
   "metadata": {},
   "source": [
    "# Create a TCP socket"
   ]
  },
  {
   "cell_type": "code",
   "execution_count": 6,
   "metadata": {},
   "outputs": [
    {
     "name": "stdout",
     "output_type": "stream",
     "text": [
      "Server is listening...\n",
      "Connected by ('127.0.0.1', 57624)\n",
      "Received: Hello, Server!\n"
     ]
    }
   ],
   "source": [
    "with socket.socket(socket.AF_INET, socket.SOCK_STREAM) as server_socket:\n",
    "    server_socket.bind((HOST, PORT))  # Bind the socket to the address\n",
    "    server_socket.listen()              # Listen for incoming connections\n",
    "    print(\"Server is listening...\")\n",
    "\n",
    "    conn, addr = server_socket.accept()  # Accept a connection\n",
    "    with conn:\n",
    "        print(f\"Connected by {addr}\")\n",
    "        while True:\n",
    "            data = conn.recv(1024)       # Receive data from the client\n",
    "            if not data:\n",
    "                break                    # Break if no data is received\n",
    "            print(f\"Received: {data.decode()}\")\n",
    "            conn.sendall(data)           # Echo back the received data"
   ]
  }
 ],
 "metadata": {
  "kernelspec": {
   "display_name": ".venv",
   "language": "python",
   "name": "python3"
  },
  "language_info": {
   "codemirror_mode": {
    "name": "ipython",
    "version": 3
   },
   "file_extension": ".py",
   "mimetype": "text/x-python",
   "name": "python",
   "nbconvert_exporter": "python",
   "pygments_lexer": "ipython3",
   "version": "3.12.5"
  },
  "orig_nbformat": 4,
  "vscode": {
   "interpreter": {
    "hash": "49e452f977c27ce7b69233271a2fb15c0ce095e1b97d5518e5b5e97b6d9666eb"
   }
  }
 },
 "nbformat": 4,
 "nbformat_minor": 2
}
