{
 "cells": [
  {
   "cell_type": "code",
   "execution_count": 11,
   "metadata": {},
   "outputs": [
    {
     "name": "stdout",
     "output_type": "stream",
     "text": [
      "Alice\n"
     ]
    }
   ],
   "source": [
    "class Person:\n",
    "    def __init__(self, name):\n",
    "        self.name = name\n",
    "\n",
    "# Create an instance of Person\n",
    "person_instance = Person(\"Alice\")\n",
    "\n",
    "# Print the name attribute of the instance\n",
    "print(person_instance.name)  "
   ]
  },
  {
   "cell_type": "code",
   "execution_count": 12,
   "metadata": {},
   "outputs": [
    {
     "name": "stdout",
     "output_type": "stream",
     "text": [
      "Person: Alice\n"
     ]
    }
   ],
   "source": [
    "class Pson:\n",
    "    def __init__(self, name):\n",
    "        self.name = name\n",
    "        \n",
    "    def __str__(self):\n",
    "        return f\"Person: {self.name}\"\n",
    "\n",
    "# Create an instance of Pson\n",
    "person_instance = Pson(\"Alice\")\n",
    "\n",
    "# Print the string representation of the instance\n",
    "print(person_instance)  "
   ]
  },
  {
   "cell_type": "code",
   "execution_count": 13,
   "metadata": {},
   "outputs": [
    {
     "name": "stdout",
     "output_type": "stream",
     "text": [
      "Person(name=Alice)\n"
     ]
    }
   ],
   "source": [
    "# __repr__\n",
    "\n",
    "class Person:\n",
    "    def __init__(self, name):\n",
    "        self.name = name\n",
    "        \n",
    "    def __repr__(self):\n",
    "        return f\"Person(name={self.name})\"\n",
    "\n",
    "# Create an instance of Person\n",
    "person_instance = Person(\"Alice\")\n",
    "\n",
    "# Print the instance using __repr__\n",
    "print(person_instance)  "
   ]
  },
  {
   "cell_type": "code",
   "execution_count": 14,
   "metadata": {},
   "outputs": [
    {
     "name": "stdout",
     "output_type": "stream",
     "text": [
      "5\n"
     ]
    }
   ],
   "source": [
    "# __len__\n",
    "\n",
    "class MyList:\n",
    "    def __init__(self, items):\n",
    "        self.items = items\n",
    "        \n",
    "    def __len__(self):\n",
    "        return len(self.items)\n",
    "\n",
    "# Create an instance of MyList\n",
    "my_list_instance = MyList([1, 2, 3, 4, 5])\n",
    "\n",
    "# Print the length of the instance using __len__\n",
    "print(len(my_list_instance)) "
   ]
  }
 ],
 "metadata": {
  "kernelspec": {
   "display_name": ".venv",
   "language": "python",
   "name": "python3"
  },
  "language_info": {
   "codemirror_mode": {
    "name": "ipython",
    "version": 3
   },
   "file_extension": ".py",
   "mimetype": "text/x-python",
   "name": "python",
   "nbconvert_exporter": "python",
   "pygments_lexer": "ipython3",
   "version": "3.12.5"
  },
  "orig_nbformat": 4,
  "vscode": {
   "interpreter": {
    "hash": "49e452f977c27ce7b69233271a2fb15c0ce095e1b97d5518e5b5e97b6d9666eb"
   }
  }
 },
 "nbformat": 4,
 "nbformat_minor": 2
}
