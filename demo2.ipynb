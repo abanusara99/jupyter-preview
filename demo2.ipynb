{
 "cells": [
  {
   "attachments": {},
   "cell_type": "markdown",
   "metadata": {},
   "source": [
    "# Generators"
   ]
  },
  {
   "cell_type": "code",
   "execution_count": 18,
   "metadata": {},
   "outputs": [
    {
     "name": "stdout",
     "output_type": "stream",
     "text": [
      "0\n",
      "2\n"
     ]
    }
   ],
   "source": [
    "def my_generator(n):\n",
    "    value = 0\n",
    "    while value < n:\n",
    "        yield value\n",
    "        value += 2\n",
    "\n",
    "# Using the generator\n",
    "for value in my_generator(3):\n",
    "    print(value)"
   ]
  },
  {
   "attachments": {},
   "cell_type": "markdown",
   "metadata": {},
   "source": [
    "# Decorators"
   ]
  },
  {
   "cell_type": "code",
   "execution_count": 19,
   "metadata": {},
   "outputs": [
    {
     "name": "stdout",
     "output_type": "stream",
     "text": [
      "Something is happening before the function is called.\n",
      "Hello!\n",
      "Something is happening after the function is called.\n"
     ]
    }
   ],
   "source": [
    "def my_decorator(func):\n",
    "    def wrapper():\n",
    "        print(\"Something is happening before the function is called.\")\n",
    "        func()\n",
    "        print(\"Something is happening after the function is called.\")\n",
    "    return wrapper\n",
    "\n",
    "@my_decorator\n",
    "def say_hello():\n",
    "    print(\"Hello!\")\n",
    "\n",
    "say_hello()"
   ]
  },
  {
   "attachments": {},
   "cell_type": "markdown",
   "metadata": {},
   "source": [
    "# RegEx"
   ]
  },
  {
   "cell_type": "code",
   "execution_count": 23,
   "metadata": {},
   "outputs": [
    {
     "name": "stdout",
     "output_type": "stream",
     "text": [
      "example@example.com is a valid email.\n",
      "\n",
      "\n",
      "user.name+tag+sorting@example.com is a valid email.\n",
      "\n",
      "\n",
      "user@domain.co.in is a valid email.\n",
      "\n",
      "\n",
      "invalid-email@.com is not a valid email.\n",
      "\n",
      "\n",
      "@missingusername.com is not a valid email.\n",
      "\n",
      "\n"
     ]
    }
   ],
   "source": [
    "import re\n",
    "\n",
    "# Define a regex pattern for validating an email address\n",
    "email_pattern = r'^[a-zA-Z0-9._%+-]+@[a-zA-Z0-9.-]+\\.[a-zA-Z]{2,}$'\n",
    "\n",
    "# Test strings\n",
    "test_emails = [\n",
    "    \"example@example.com\",\n",
    "    \"user.name+tag+sorting@example.com\",\n",
    "    \"user@domain.co.in\",\n",
    "    \"invalid-email@.com\",\n",
    "    \"@missingusername.com\"\n",
    "]\n",
    "\n",
    "# Validate each email\n",
    "for email in test_emails:\n",
    "    if re.match(email_pattern, email):\n",
    "        print(f\"{email} is a valid email.\")\n",
    "        print(\"\\n\")\n",
    "    else:\n",
    "        print(f\"{email} is not a valid email.\")\n",
    "        print(\"\\n\")"
   ]
  }
 ],
 "metadata": {
  "kernelspec": {
   "display_name": ".venv",
   "language": "python",
   "name": "python3"
  },
  "language_info": {
   "codemirror_mode": {
    "name": "ipython",
    "version": 3
   },
   "file_extension": ".py",
   "mimetype": "text/x-python",
   "name": "python",
   "nbconvert_exporter": "python",
   "pygments_lexer": "ipython3",
   "version": "3.12.5"
  },
  "orig_nbformat": 4,
  "vscode": {
   "interpreter": {
    "hash": "49e452f977c27ce7b69233271a2fb15c0ce095e1b97d5518e5b5e97b6d9666eb"
   }
  }
 },
 "nbformat": 4,
 "nbformat_minor": 2
}
