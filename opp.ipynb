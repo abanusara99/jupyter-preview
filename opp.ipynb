{
 "cells": [
  {
   "attachments": {},
   "cell_type": "markdown",
   "metadata": {},
   "source": [
    "# Polymorphism"
   ]
  },
  {
   "attachments": {},
   "cell_type": "markdown",
   "metadata": {},
   "source": [
    "# One base, two derived and display function"
   ]
  },
  {
   "cell_type": "code",
   "execution_count": 4,
   "metadata": {},
   "outputs": [
    {
     "name": "stdout",
     "output_type": "stream",
     "text": [
      "DerivedA implementation\n",
      "DerivedB implementation\n"
     ]
    }
   ],
   "source": [
    "class Base:\n",
    "    def show(self):\n",
    "        pass\n",
    "\n",
    "class DerivedA(Base):\n",
    "    def show(self):\n",
    "        return \"DerivedA implementation\"\n",
    "\n",
    "class DerivedB(Base):\n",
    "    def show(self):\n",
    "        return \"DerivedB implementation\"\n",
    "\n",
    "def display(obj: Base):\n",
    "    print(obj.show())\n",
    "\n",
    "# Example Usage\n",
    "display(DerivedA())  \n",
    "display(DerivedB())  "
   ]
  },
  {
   "attachments": {},
   "cell_type": "markdown",
   "metadata": {},
   "source": [
    "# Abstraction"
   ]
  },
  {
   "cell_type": "code",
   "execution_count": 7,
   "metadata": {},
   "outputs": [
    {
     "name": "stdout",
     "output_type": "stream",
     "text": [
      "Implementation of the abstract method\n"
     ]
    }
   ],
   "source": [
    "from abc import ABC, abstractmethod\n",
    "\n",
    "class AbstractClass(ABC): # abstract classname\n",
    "    @abstractmethod        # abstract method\n",
    "    def abstract_method(self):\n",
    "        pass\n",
    "\n",
    "class ConcreteClass(AbstractClass):  # abstract Concreteclassname\n",
    "    def abstract_method(self):\n",
    "        return \"Implementation of the abstract method\"\n",
    "\n",
    "# Example Usage\n",
    "obj = ConcreteClass()\n",
    "print(obj.abstract_method())  "
   ]
  },
  {
   "attachments": {},
   "cell_type": "markdown",
   "metadata": {},
   "source": [
    "# Encapsulation"
   ]
  },
  {
   "cell_type": "code",
   "execution_count": 8,
   "metadata": {},
   "outputs": [
    {
     "name": "stdout",
     "output_type": "stream",
     "text": [
      "Ali\n",
      "300000\n",
      "350000\n"
     ]
    }
   ],
   "source": [
    "class Employee:\n",
    "    def __init__(self, name, salary):\n",
    "        self.name = name  # Public attribute\n",
    "        self.__salary = salary  # Private attribute\n",
    "\n",
    "    def get_salary(self):\n",
    "        return self.__salary  # Public method to access private attribute\n",
    "\n",
    "    def set_salary(self, salary):\n",
    "        if salary >= 0:\n",
    "            self.__salary = salary  # Public method to modify private attribute\n",
    "\n",
    "# Example Usage\n",
    "ceo = Employee(\"Ali\", 300000)\n",
    "print(ceo.name)          \n",
    "print(ceo.get_salary())  \n",
    "ceo.set_salary(350000)   \n",
    "print(ceo.get_salary())  "
   ]
  }
 ],
 "metadata": {
  "kernelspec": {
   "display_name": ".venv",
   "language": "python",
   "name": "python3"
  },
  "language_info": {
   "codemirror_mode": {
    "name": "ipython",
    "version": 3
   },
   "file_extension": ".py",
   "mimetype": "text/x-python",
   "name": "python",
   "nbconvert_exporter": "python",
   "pygments_lexer": "ipython3",
   "version": "3.12.5"
  },
  "orig_nbformat": 4,
  "vscode": {
   "interpreter": {
    "hash": "49e452f977c27ce7b69233271a2fb15c0ce095e1b97d5518e5b5e97b6d9666eb"
   }
  }
 },
 "nbformat": 4,
 "nbformat_minor": 2
}
